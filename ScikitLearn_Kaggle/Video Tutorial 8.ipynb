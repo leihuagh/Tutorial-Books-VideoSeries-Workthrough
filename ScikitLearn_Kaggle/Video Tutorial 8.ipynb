{
 "cells": [
  {
   "cell_type": "code",
   "execution_count": 2,
   "metadata": {},
   "outputs": [
    {
     "name": "stdout",
     "output_type": "stream",
     "text": [
      "{'n_neighbors': [1, 2, 3, 4, 5, 6, 7, 8, 9, 10, 11, 12, 13, 14, 15, 16, 17, 18, 19, 20, 21, 22, 23, 24, 25, 26, 27, 28, 29, 30]}\n",
      "GridSearchCV(cv=10, error_score='raise',\n",
      "       estimator=KNeighborsClassifier(algorithm='auto', leaf_size=30, metric='minkowski',\n",
      "           metric_params=None, n_jobs=1, n_neighbors=5, p=2,\n",
      "           weights='uniform'),\n",
      "       fit_params={}, iid=True, n_jobs=1,\n",
      "       param_grid={'n_neighbors': [1, 2, 3, 4, 5, 6, 7, 8, 9, 10, 11, 12, 13, 14, 15, 16, 17, 18, 19, 20, 21, 22, 23, 24, 25, 26, 27, 28, 29, 30]},\n",
      "       pre_dispatch='2*n_jobs', refit=True, return_train_score=True,\n",
      "       scoring='accuracy', verbose=0)\n"
     ]
    },
    {
     "name": "stderr",
     "output_type": "stream",
     "text": [
      "C:\\ProgramData\\Anaconda3\\lib\\site-packages\\sklearn\\model_selection\\_search.py:667: DeprecationWarning: The grid_scores_ attribute was deprecated in version 0.18 in favor of the more elaborate cv_results_ attribute. The grid_scores_ attribute will not be available from 0.20\n",
      "  DeprecationWarning)\n",
      "C:\\ProgramData\\Anaconda3\\lib\\site-packages\\sklearn\\model_selection\\_search.py:667: DeprecationWarning: The grid_scores_ attribute was deprecated in version 0.18 in favor of the more elaborate cv_results_ attribute. The grid_scores_ attribute will not be available from 0.20\n",
      "  DeprecationWarning)\n",
      "C:\\ProgramData\\Anaconda3\\lib\\site-packages\\sklearn\\model_selection\\_search.py:667: DeprecationWarning: The grid_scores_ attribute was deprecated in version 0.18 in favor of the more elaborate cv_results_ attribute. The grid_scores_ attribute will not be available from 0.20\n",
      "  DeprecationWarning)\n",
      "C:\\ProgramData\\Anaconda3\\lib\\site-packages\\sklearn\\model_selection\\_search.py:667: DeprecationWarning: The grid_scores_ attribute was deprecated in version 0.18 in favor of the more elaborate cv_results_ attribute. The grid_scores_ attribute will not be available from 0.20\n",
      "  DeprecationWarning)\n",
      "C:\\ProgramData\\Anaconda3\\lib\\site-packages\\sklearn\\model_selection\\_search.py:667: DeprecationWarning: The grid_scores_ attribute was deprecated in version 0.18 in favor of the more elaborate cv_results_ attribute. The grid_scores_ attribute will not be available from 0.20\n",
      "  DeprecationWarning)\n"
     ]
    },
    {
     "name": "stdout",
     "output_type": "stream",
     "text": [
      "[mean: 0.96000, std: 0.05333, params: {'n_neighbors': 1}, mean: 0.95333, std: 0.05207, params: {'n_neighbors': 2}, mean: 0.96667, std: 0.04472, params: {'n_neighbors': 3}, mean: 0.96667, std: 0.04472, params: {'n_neighbors': 4}, mean: 0.96667, std: 0.04472, params: {'n_neighbors': 5}, mean: 0.96667, std: 0.04472, params: {'n_neighbors': 6}, mean: 0.96667, std: 0.04472, params: {'n_neighbors': 7}, mean: 0.96667, std: 0.04472, params: {'n_neighbors': 8}, mean: 0.97333, std: 0.03266, params: {'n_neighbors': 9}, mean: 0.96667, std: 0.04472, params: {'n_neighbors': 10}, mean: 0.96667, std: 0.04472, params: {'n_neighbors': 11}, mean: 0.97333, std: 0.03266, params: {'n_neighbors': 12}, mean: 0.98000, std: 0.03055, params: {'n_neighbors': 13}, mean: 0.97333, std: 0.04422, params: {'n_neighbors': 14}, mean: 0.97333, std: 0.03266, params: {'n_neighbors': 15}, mean: 0.97333, std: 0.03266, params: {'n_neighbors': 16}, mean: 0.97333, std: 0.03266, params: {'n_neighbors': 17}, mean: 0.98000, std: 0.03055, params: {'n_neighbors': 18}, mean: 0.97333, std: 0.03266, params: {'n_neighbors': 19}, mean: 0.98000, std: 0.03055, params: {'n_neighbors': 20}, mean: 0.96667, std: 0.03333, params: {'n_neighbors': 21}, mean: 0.96667, std: 0.03333, params: {'n_neighbors': 22}, mean: 0.97333, std: 0.03266, params: {'n_neighbors': 23}, mean: 0.96000, std: 0.04422, params: {'n_neighbors': 24}, mean: 0.96667, std: 0.03333, params: {'n_neighbors': 25}, mean: 0.96000, std: 0.04422, params: {'n_neighbors': 26}, mean: 0.96667, std: 0.04472, params: {'n_neighbors': 27}, mean: 0.95333, std: 0.04269, params: {'n_neighbors': 28}, mean: 0.95333, std: 0.04269, params: {'n_neighbors': 29}, mean: 0.95333, std: 0.04269, params: {'n_neighbors': 30}]\n",
      "{'n_neighbors': 1}\n",
      "[ 1.          0.93333333  1.          0.93333333  0.86666667  1.\n",
      "  0.86666667  1.          1.          1.        ]\n",
      "0.96\n",
      "0.98\n",
      "{'n_neighbors': 13}\n",
      "KNeighborsClassifier(algorithm='auto', leaf_size=30, metric='minkowski',\n",
      "           metric_params=None, n_jobs=1, n_neighbors=13, p=2,\n",
      "           weights='uniform')\n",
      "12\n",
      "{'n_neighbors': [1, 2, 3, 4, 5, 6, 7, 8, 9, 10, 11, 12, 13, 14, 15, 16, 17, 18, 19, 20, 21, 22, 23, 24, 25, 26, 27, 28, 29, 30], 'weights': ['uniform', 'distance']}\n"
     ]
    },
    {
     "name": "stderr",
     "output_type": "stream",
     "text": [
      "C:\\ProgramData\\Anaconda3\\lib\\site-packages\\sklearn\\model_selection\\_search.py:667: DeprecationWarning: The grid_scores_ attribute was deprecated in version 0.18 in favor of the more elaborate cv_results_ attribute. The grid_scores_ attribute will not be available from 0.20\n",
      "  DeprecationWarning)\n",
      "C:\\ProgramData\\Anaconda3\\lib\\site-packages\\sklearn\\utils\\validation.py:395: DeprecationWarning: Passing 1d arrays as data is deprecated in 0.17 and will raise ValueError in 0.19. Reshape your data either using X.reshape(-1, 1) if your data has a single feature or X.reshape(1, -1) if it contains a single sample.\n",
      "  DeprecationWarning)\n",
      "C:\\ProgramData\\Anaconda3\\lib\\site-packages\\sklearn\\utils\\validation.py:395: DeprecationWarning: Passing 1d arrays as data is deprecated in 0.17 and will raise ValueError in 0.19. Reshape your data either using X.reshape(-1, 1) if your data has a single feature or X.reshape(1, -1) if it contains a single sample.\n",
      "  DeprecationWarning)\n"
     ]
    },
    {
     "name": "stdout",
     "output_type": "stream",
     "text": [
      "[mean: 0.96000, std: 0.05333, params: {'n_neighbors': 1, 'weights': 'uniform'}, mean: 0.96000, std: 0.05333, params: {'n_neighbors': 1, 'weights': 'distance'}, mean: 0.95333, std: 0.05207, params: {'n_neighbors': 2, 'weights': 'uniform'}, mean: 0.96000, std: 0.05333, params: {'n_neighbors': 2, 'weights': 'distance'}, mean: 0.96667, std: 0.04472, params: {'n_neighbors': 3, 'weights': 'uniform'}, mean: 0.96667, std: 0.04472, params: {'n_neighbors': 3, 'weights': 'distance'}, mean: 0.96667, std: 0.04472, params: {'n_neighbors': 4, 'weights': 'uniform'}, mean: 0.96667, std: 0.04472, params: {'n_neighbors': 4, 'weights': 'distance'}, mean: 0.96667, std: 0.04472, params: {'n_neighbors': 5, 'weights': 'uniform'}, mean: 0.96667, std: 0.04472, params: {'n_neighbors': 5, 'weights': 'distance'}, mean: 0.96667, std: 0.04472, params: {'n_neighbors': 6, 'weights': 'uniform'}, mean: 0.96667, std: 0.04472, params: {'n_neighbors': 6, 'weights': 'distance'}, mean: 0.96667, std: 0.04472, params: {'n_neighbors': 7, 'weights': 'uniform'}, mean: 0.96667, std: 0.04472, params: {'n_neighbors': 7, 'weights': 'distance'}, mean: 0.96667, std: 0.04472, params: {'n_neighbors': 8, 'weights': 'uniform'}, mean: 0.96667, std: 0.04472, params: {'n_neighbors': 8, 'weights': 'distance'}, mean: 0.97333, std: 0.03266, params: {'n_neighbors': 9, 'weights': 'uniform'}, mean: 0.97333, std: 0.03266, params: {'n_neighbors': 9, 'weights': 'distance'}, mean: 0.96667, std: 0.04472, params: {'n_neighbors': 10, 'weights': 'uniform'}, mean: 0.97333, std: 0.03266, params: {'n_neighbors': 10, 'weights': 'distance'}, mean: 0.96667, std: 0.04472, params: {'n_neighbors': 11, 'weights': 'uniform'}, mean: 0.97333, std: 0.03266, params: {'n_neighbors': 11, 'weights': 'distance'}, mean: 0.97333, std: 0.03266, params: {'n_neighbors': 12, 'weights': 'uniform'}, mean: 0.97333, std: 0.04422, params: {'n_neighbors': 12, 'weights': 'distance'}, mean: 0.98000, std: 0.03055, params: {'n_neighbors': 13, 'weights': 'uniform'}, mean: 0.97333, std: 0.03266, params: {'n_neighbors': 13, 'weights': 'distance'}, mean: 0.97333, std: 0.04422, params: {'n_neighbors': 14, 'weights': 'uniform'}, mean: 0.97333, std: 0.03266, params: {'n_neighbors': 14, 'weights': 'distance'}, mean: 0.97333, std: 0.03266, params: {'n_neighbors': 15, 'weights': 'uniform'}, mean: 0.98000, std: 0.03055, params: {'n_neighbors': 15, 'weights': 'distance'}, mean: 0.97333, std: 0.03266, params: {'n_neighbors': 16, 'weights': 'uniform'}, mean: 0.97333, std: 0.03266, params: {'n_neighbors': 16, 'weights': 'distance'}, mean: 0.97333, std: 0.03266, params: {'n_neighbors': 17, 'weights': 'uniform'}, mean: 0.98000, std: 0.03055, params: {'n_neighbors': 17, 'weights': 'distance'}, mean: 0.98000, std: 0.03055, params: {'n_neighbors': 18, 'weights': 'uniform'}, mean: 0.97333, std: 0.03266, params: {'n_neighbors': 18, 'weights': 'distance'}, mean: 0.97333, std: 0.03266, params: {'n_neighbors': 19, 'weights': 'uniform'}, mean: 0.98000, std: 0.03055, params: {'n_neighbors': 19, 'weights': 'distance'}, mean: 0.98000, std: 0.03055, params: {'n_neighbors': 20, 'weights': 'uniform'}, mean: 0.96667, std: 0.04472, params: {'n_neighbors': 20, 'weights': 'distance'}, mean: 0.96667, std: 0.03333, params: {'n_neighbors': 21, 'weights': 'uniform'}, mean: 0.96667, std: 0.04472, params: {'n_neighbors': 21, 'weights': 'distance'}, mean: 0.96667, std: 0.03333, params: {'n_neighbors': 22, 'weights': 'uniform'}, mean: 0.96667, std: 0.04472, params: {'n_neighbors': 22, 'weights': 'distance'}, mean: 0.97333, std: 0.03266, params: {'n_neighbors': 23, 'weights': 'uniform'}, mean: 0.97333, std: 0.03266, params: {'n_neighbors': 23, 'weights': 'distance'}, mean: 0.96000, std: 0.04422, params: {'n_neighbors': 24, 'weights': 'uniform'}, mean: 0.97333, std: 0.03266, params: {'n_neighbors': 24, 'weights': 'distance'}, mean: 0.96667, std: 0.03333, params: {'n_neighbors': 25, 'weights': 'uniform'}, mean: 0.97333, std: 0.03266, params: {'n_neighbors': 25, 'weights': 'distance'}, mean: 0.96000, std: 0.04422, params: {'n_neighbors': 26, 'weights': 'uniform'}, mean: 0.96667, std: 0.04472, params: {'n_neighbors': 26, 'weights': 'distance'}, mean: 0.96667, std: 0.04472, params: {'n_neighbors': 27, 'weights': 'uniform'}, mean: 0.98000, std: 0.03055, params: {'n_neighbors': 27, 'weights': 'distance'}, mean: 0.95333, std: 0.04269, params: {'n_neighbors': 28, 'weights': 'uniform'}, mean: 0.97333, std: 0.03266, params: {'n_neighbors': 28, 'weights': 'distance'}, mean: 0.95333, std: 0.04269, params: {'n_neighbors': 29, 'weights': 'uniform'}, mean: 0.97333, std: 0.03266, params: {'n_neighbors': 29, 'weights': 'distance'}, mean: 0.95333, std: 0.04269, params: {'n_neighbors': 30, 'weights': 'uniform'}, mean: 0.96667, std: 0.03333, params: {'n_neighbors': 30, 'weights': 'distance'}]\n",
      "\n",
      "Best score with multiple parameters \n",
      "0.98\n",
      "{'n_neighbors': 13, 'weights': 'uniform'}\n",
      "[1]\n",
      "[1]\n",
      "{'n_neighbors': [1, 2, 3, 4, 5, 6, 7, 8, 9, 10, 11, 12, 13, 14, 15, 16, 17, 18, 19, 20, 21, 22, 23, 24, 25, 26, 27, 28, 29, 30], 'weights': ['uniform', 'distance']}\n",
      "[mean: 0.97333, std: 0.03266, params: {'weights': 'distance', 'n_neighbors': 16}, mean: 0.96667, std: 0.03333, params: {'weights': 'uniform', 'n_neighbors': 22}, mean: 0.98000, std: 0.03055, params: {'weights': 'uniform', 'n_neighbors': 18}, mean: 0.96667, std: 0.04472, params: {'weights': 'uniform', 'n_neighbors': 27}, mean: 0.95333, std: 0.04269, params: {'weights': 'uniform', 'n_neighbors': 29}, mean: 0.97333, std: 0.03266, params: {'weights': 'distance', 'n_neighbors': 10}, mean: 0.96667, std: 0.04472, params: {'weights': 'distance', 'n_neighbors': 22}, mean: 0.97333, std: 0.04422, params: {'weights': 'uniform', 'n_neighbors': 14}, mean: 0.97333, std: 0.04422, params: {'weights': 'distance', 'n_neighbors': 12}, mean: 0.97333, std: 0.03266, params: {'weights': 'uniform', 'n_neighbors': 15}]\n",
      "random best model:\n",
      "0.98\n",
      "{'weights': 'uniform', 'n_neighbors': 18}\n"
     ]
    },
    {
     "name": "stderr",
     "output_type": "stream",
     "text": [
      "C:\\ProgramData\\Anaconda3\\lib\\site-packages\\sklearn\\model_selection\\_search.py:667: DeprecationWarning: The grid_scores_ attribute was deprecated in version 0.18 in favor of the more elaborate cv_results_ attribute. The grid_scores_ attribute will not be available from 0.20\n",
      "  DeprecationWarning)\n"
     ]
    },
    {
     "data": {
      "image/png": "[encoded data removed]",
      "text/plain": [
       "<matplotlib.figure.Figure at 0x92b1198>"
      ]
     },
     "metadata": {},
     "output_type": "display_data"
    }
   ],
   "source": [
    "%matplotlib inline\n",
    "\n",
    "import matplotlib.pyplot as plt\n",
    "from sklearn.datasets import load_iris\n",
    "from sklearn.neighbors import KNeighborsClassifier\n",
    "from sklearn.model_selection import GridSearchCV\n",
    "from sklearn.model_selection import RandomizedSearchCV\n",
    "\n",
    "#Drawbacks of Train-test split with knn classification model with iris dataset\n",
    "iris = load_iris()\n",
    "X = iris.data\n",
    "y = iris.target\n",
    "\n",
    "#List of parameter values to be searched\n",
    "kRange = list(range(1,31))\n",
    "\n",
    "knn = KNeighborsClassifier(n_neighbors=5)\n",
    "\n",
    "#Mapping of parameter with Parameter values\n",
    "paramGrid = dict(n_neighbors=kRange)\n",
    "print(paramGrid)\n",
    "\n",
    "#instantiate the grid\n",
    "#n_jobs = -1 means parallel processing is allowed\n",
    "#grid = GridSearchCV(knn,paramGrid,cv=10,scoring='accuracy',n_jobs=-1)\n",
    "grid = GridSearchCV(knn,paramGrid,cv=10,scoring='accuracy')\n",
    "print(grid)\n",
    "\n",
    "grid.fit(X,y,None)\n",
    "print(grid.grid_scores_)\n",
    "\n",
    "#Getting First tuple \n",
    "print(grid.grid_scores_[0].parameters)\n",
    "print(grid.grid_scores_[0].cv_validation_scores)\n",
    "print(grid.grid_scores_[0].mean_validation_score)\n",
    "\n",
    "#Separating mean values of all results\n",
    "gridMeanScore = [result.mean_validation_score for result in grid.grid_scores_]\n",
    "\n",
    "#Plottoing the Graph for kRange vs gridScores\n",
    "plt.plot(kRange,gridMeanScore)\n",
    "plt.xlabel(\"K values\")\n",
    "plt.ylabel(\"Accuracy Scores\")\n",
    "\n",
    "#Get the best Model\n",
    "print(grid.best_score_)\n",
    "print(grid.best_params_)\n",
    "print(grid.best_estimator_)\n",
    "print(grid.best_index_)\n",
    "\n",
    "#It is also useful to search for best model with multiple parameters\n",
    "#In knn model: weight option is available i.e. how far is neighbor from given point\n",
    "\n",
    "weightOptions = ['uniform', 'distance']\n",
    "\n",
    "paramGrid = dict(n_neighbors=kRange,weights=weightOptions)\n",
    "print(paramGrid)\n",
    "\n",
    "grid = GridSearchCV(knn,paramGrid,cv=10,scoring='accuracy')\n",
    "\n",
    "grid.fit(X,y,None)\n",
    "print(grid.grid_scores_)\n",
    "\n",
    "print(\"\\nBest score with multiple parameters \")\n",
    "print(grid.best_score_)\n",
    "print(grid.best_params_)\n",
    "\n",
    "#Hence creating best model\n",
    "knn = KNeighborsClassifier(n_neighbors=13,weights='uniform')\n",
    "knn.fit(X,y)\n",
    "\n",
    "print(knn.predict([3,5,4,2]))#Ans = 1\n",
    "print(grid.predict([3,5,4,2]))\n",
    "\n",
    "#ANother approach is Randomized Search\n",
    "#Here instead of all possible combinations like Grid Search, Randomized combinations\n",
    "#with defined number of iterations is performed and Computational cost can be reduced\n",
    "#Requires parameter distributor => Doesn't affects parameter distribution for distinct values\n",
    "#but affects if parameter is continuous\n",
    "paramDist = dict(n_neighbors=kRange,weights=weightOptions)\n",
    "print(paramDist)\n",
    "\n",
    "rand = RandomizedSearchCV(knn,paramDist,cv=10,scoring='accuracy',n_iter=10,random_state=5)\n",
    "rand.fit(X,y)\n",
    "print(rand.grid_scores_)\n",
    "print(\"random best model:\")\n",
    "print(rand.best_score_)\n",
    "print(rand.best_params_)"
   ]
  },
  {
   "cell_type": "code",
   "execution_count": null,
   "metadata": {
    "collapsed": true
   },
   "outputs": [],
   "source": []
  }
 ],
 "metadata": {
  "kernelspec": {
   "display_name": "Python 3",
   "language": "python",
   "name": "python3"
  },
  "language_info": {
   "codemirror_mode": {
    "name": "ipython",
    "version": 3
   },
   "file_extension": ".py",
   "mimetype": "text/x-python",
   "name": "python",
   "nbconvert_exporter": "python",
   "pygments_lexer": "ipython3",
   "version": "3.6.1"
  }
 },
 "nbformat": 4,
 "nbformat_minor": 2
}
